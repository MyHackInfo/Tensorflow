{
  "nbformat": 4,
  "nbformat_minor": 0,
  "metadata": {
    "colab": {
      "name": "TensorFlow.ipynb",
      "version": "0.3.2",
      "provenance": [],
      "include_colab_link": true
    },
    "kernelspec": {
      "name": "python3",
      "display_name": "Python 3"
    }
  },
  "cells": [
    {
      "cell_type": "markdown",
      "metadata": {
        "id": "view-in-github",
        "colab_type": "text"
      },
      "source": [
        "<a href=\"https://colab.research.google.com/github/MyHackInfo/Tensorflow/blob/master/TensorFlow.ipynb\" target=\"_parent\"><img src=\"https://colab.research.google.com/assets/colab-badge.svg\" alt=\"Open In Colab\"/></a>"
      ]
    },
    {
      "metadata": {
        "id": "a537hDqcE6iO",
        "colab_type": "text"
      },
      "cell_type": "markdown",
      "source": [
        "# TensorFlow Basic Syntax"
      ]
    },
    {
      "metadata": {
        "id": "cuPuPu80E3rM",
        "colab_type": "code",
        "colab": {}
      },
      "cell_type": "code",
      "source": [
        "import tensorflow as tf"
      ],
      "execution_count": 0,
      "outputs": []
    },
    {
      "metadata": {
        "id": "gYJliu5D7rWc",
        "colab_type": "code",
        "colab": {
          "base_uri": "https://localhost:8080/",
          "height": 34
        },
        "outputId": "8d704a04-90d7-4368-9d86-71a6ba2c3535"
      },
      "cell_type": "code",
      "source": [
        "n1 = tf.constant(2)    # Use for crate constant value like int , string\n",
        "n2 = tf.constant(5)\n",
        "n3 = n1 + n2\n",
        "print(n3)              # Simple in tensorflow we dont add two value directly"
      ],
      "execution_count": 20,
      "outputs": [
        {
          "output_type": "stream",
          "text": [
            "Tensor(\"add_3:0\", shape=(), dtype=int32)\n"
          ],
          "name": "stdout"
        }
      ]
    },
    {
      "metadata": {
        "id": "PEo_5Atx8KK5",
        "colab_type": "code",
        "colab": {}
      },
      "cell_type": "code",
      "source": [
        "# Here we create Session that help run code with its we can not run code\n",
        "with tf.Session() as sess:\n",
        "  result = sess.run(n3)\n",
        "  "
      ],
      "execution_count": 0,
      "outputs": []
    },
    {
      "metadata": {
        "id": "pW9lCFso8S86",
        "colab_type": "code",
        "colab": {
          "base_uri": "https://localhost:8080/",
          "height": 34
        },
        "outputId": "c17e3ea1-d254-425c-d685-006c800032bd"
      },
      "cell_type": "code",
      "source": [
        "# Here use sess for print output\n",
        "print(result)"
      ],
      "execution_count": 22,
      "outputs": [
        {
          "output_type": "stream",
          "text": [
            "7\n"
          ],
          "name": "stdout"
        }
      ]
    },
    {
      "metadata": {
        "id": "3wqnntRl8c6Z",
        "colab_type": "code",
        "colab": {
          "base_uri": "https://localhost:8080/",
          "height": 34
        },
        "outputId": "7a42da87-967b-44af-abac-1792f6bb8cc1"
      },
      "cell_type": "code",
      "source": [
        "# tf.__version__ are use for show which v we use tf\n",
        "print(tf.__version__)"
      ],
      "execution_count": 23,
      "outputs": [
        {
          "output_type": "stream",
          "text": [
            "1.14.1-dev20190301\n"
          ],
          "name": "stdout"
        }
      ]
    },
    {
      "metadata": {
        "id": "g_JPYQ0G9QK_",
        "colab_type": "code",
        "colab": {}
      },
      "cell_type": "code",
      "source": [
        "hello = tf.constant(\"hey\")\n",
        "world = tf.constant(\"world\")"
      ],
      "execution_count": 0,
      "outputs": []
    },
    {
      "metadata": {
        "id": "VcD2l7q89igP",
        "colab_type": "code",
        "colab": {
          "base_uri": "https://localhost:8080/",
          "height": 34
        },
        "outputId": "eda82674-5077-43ad-93ba-3064b2f99355"
      },
      "cell_type": "code",
      "source": [
        "# type funtion use for know what type of data is it.\n",
        "type(hello)"
      ],
      "execution_count": 24,
      "outputs": [
        {
          "output_type": "execute_result",
          "data": {
            "text/plain": [
              "tensorflow.python.framework.ops.Tensor"
            ]
          },
          "metadata": {
            "tags": []
          },
          "execution_count": 24
        }
      ]
    },
    {
      "metadata": {
        "id": "ubWc_rwT9kVR",
        "colab_type": "code",
        "colab": {
          "base_uri": "https://localhost:8080/",
          "height": 34
        },
        "outputId": "3bf8de1c-8057-4d9f-e2ad-f46a1f5888b7"
      },
      "cell_type": "code",
      "source": [
        "print(hello)"
      ],
      "execution_count": 9,
      "outputs": [
        {
          "output_type": "stream",
          "text": [
            "Tensor(\"Const_2:0\", shape=(), dtype=string)\n"
          ],
          "name": "stdout"
        }
      ]
    },
    {
      "metadata": {
        "id": "cJk_lMTE9nYv",
        "colab_type": "code",
        "colab": {}
      },
      "cell_type": "code",
      "source": [
        "with tf.Session() as sess:\n",
        "  result = sess.run(hello + world)"
      ],
      "execution_count": 0,
      "outputs": []
    },
    {
      "metadata": {
        "id": "vQmS1Imc91Tv",
        "colab_type": "code",
        "colab": {
          "base_uri": "https://localhost:8080/",
          "height": 34
        },
        "outputId": "a39a46c5-4551-4e41-fcf4-60e58eba3626"
      },
      "cell_type": "code",
      "source": [
        "print(result)"
      ],
      "execution_count": 14,
      "outputs": [
        {
          "output_type": "stream",
          "text": [
            "b'heyworld'\n"
          ],
          "name": "stdout"
        }
      ]
    },
    {
      "metadata": {
        "id": "Js3TlYpN-Dxn",
        "colab_type": "code",
        "colab": {
          "base_uri": "https://localhost:8080/",
          "height": 34
        },
        "outputId": "1f2ca583-68a6-4831-c438-0d4863f712d0"
      },
      "cell_type": "code",
      "source": [
        "with tf.Session() as sess:\n",
        "  result = sess.run(hello + world)\n",
        "  print(result)"
      ],
      "execution_count": 15,
      "outputs": [
        {
          "output_type": "stream",
          "text": [
            "b'heyworld'\n"
          ],
          "name": "stdout"
        }
      ]
    },
    {
      "metadata": {
        "id": "-UyO46x1_tF8",
        "colab_type": "code",
        "colab": {
          "base_uri": "https://localhost:8080/",
          "height": 34
        },
        "outputId": "73016dba-bde7-4a77-82cc-1561bdc4b662"
      },
      "cell_type": "code",
      "source": [
        "# .get_shep() function show dimension of tensor\n",
        "a = tf.constant([[12,23,],[23,55]])\n",
        "a.get_shape()"
      ],
      "execution_count": 25,
      "outputs": [
        {
          "output_type": "execute_result",
          "data": {
            "text/plain": [
              "TensorShape([Dimension(2), Dimension(2)])"
            ]
          },
          "metadata": {
            "tags": []
          },
          "execution_count": 25
        }
      ]
    },
    {
      "metadata": {
        "id": "gacLVPzh_6W7",
        "colab_type": "code",
        "colab": {}
      },
      "cell_type": "code",
      "source": [
        ""
      ],
      "execution_count": 0,
      "outputs": []
    },
    {
      "metadata": {
        "id": "bYVdpHhZEnEd",
        "colab_type": "text"
      },
      "cell_type": "markdown",
      "source": [
        "# TensorFlow Graphs\n",
        "  > What is Graphs: >\n",
        "   * Graphs are sets of connected nodes (vertices).\n",
        "   * The connections are referred to as edges.\n",
        "   * In TensorFlow each node is an operation with possible inputs that can supply some output \n",
        "\n"
      ]
    },
    {
      "metadata": {
        "id": "0UL7weixEzQi",
        "colab_type": "code",
        "colab": {}
      },
      "cell_type": "code",
      "source": [
        "n1 = tf.constant(2)\n",
        "n2 = tf.constant(1)\n",
        "n3 = n1 + n2\n"
      ],
      "execution_count": 0,
      "outputs": []
    },
    {
      "metadata": {
        "id": "SO3GeV2wHw50",
        "colab_type": "code",
        "colab": {}
      },
      "cell_type": "code",
      "source": [
        "with tf.Session() as sess:\n",
        "  result = sess.run(n3)"
      ],
      "execution_count": 0,
      "outputs": []
    },
    {
      "metadata": {
        "id": "1DH8Zg-NH5Zk",
        "colab_type": "code",
        "colab": {
          "base_uri": "https://localhost:8080/",
          "height": 34
        },
        "outputId": "2b2a1d5c-712f-472d-c40f-8a32854ff25c"
      },
      "cell_type": "code",
      "source": [
        "print(result)"
      ],
      "execution_count": 28,
      "outputs": [
        {
          "output_type": "stream",
          "text": [
            "3\n"
          ],
          "name": "stdout"
        }
      ]
    },
    {
      "metadata": {
        "id": "hRNCLWa2H989",
        "colab_type": "code",
        "colab": {
          "base_uri": "https://localhost:8080/",
          "height": 34
        },
        "outputId": "2a93548f-6bc2-4eab-9faa-bbd5d2ce9a96"
      },
      "cell_type": "code",
      "source": [
        "print(tf.get_default_graph())   #Default Graph"
      ],
      "execution_count": 34,
      "outputs": [
        {
          "output_type": "stream",
          "text": [
            "<tensorflow.python.framework.ops.Graph object at 0x7faed8b45748>\n"
          ],
          "name": "stdout"
        }
      ]
    },
    {
      "metadata": {
        "id": "QDGuWWUxICMs",
        "colab_type": "code",
        "colab": {}
      },
      "cell_type": "code",
      "source": [
        "g = tf.Graph()                  #New Graph"
      ],
      "execution_count": 0,
      "outputs": []
    },
    {
      "metadata": {
        "id": "i-iUY2_KIFjM",
        "colab_type": "code",
        "colab": {
          "base_uri": "https://localhost:8080/",
          "height": 34
        },
        "outputId": "69eee43d-a49d-40a2-8a2d-5e9d5066379a"
      },
      "cell_type": "code",
      "source": [
        "print(g)"
      ],
      "execution_count": 31,
      "outputs": [
        {
          "output_type": "stream",
          "text": [
            "<tensorflow.python.framework.ops.Graph object at 0x7faed8b39048>\n"
          ],
          "name": "stdout"
        }
      ]
    },
    {
      "metadata": {
        "id": "V7C2t67UIGpM",
        "colab_type": "code",
        "colab": {
          "base_uri": "https://localhost:8080/",
          "height": 34
        },
        "outputId": "a5124d38-df36-4b9d-bdb8-f09baf1d16c9"
      },
      "cell_type": "code",
      "source": [
        "graph_1 = tf.get_default_graph()     #Default Graph 1\n",
        "print(graph_1)"
      ],
      "execution_count": 35,
      "outputs": [
        {
          "output_type": "stream",
          "text": [
            "<tensorflow.python.framework.ops.Graph object at 0x7faed8b45748>\n"
          ],
          "name": "stdout"
        }
      ]
    },
    {
      "metadata": {
        "id": "mtQNgkM2IUUE",
        "colab_type": "code",
        "colab": {
          "base_uri": "https://localhost:8080/",
          "height": 34
        },
        "outputId": "ca88e985-e02e-430d-c140-ad873768c855"
      },
      "cell_type": "code",
      "source": [
        "graph_2 = tf.Graph()                #New Graph  2\n",
        "print(graph_2)"
      ],
      "execution_count": 37,
      "outputs": [
        {
          "output_type": "stream",
          "text": [
            "<tensorflow.python.framework.ops.Graph object at 0x7faed8b397f0>\n"
          ],
          "name": "stdout"
        }
      ]
    },
    {
      "metadata": {
        "id": "MpeLjdKXIc7T",
        "colab_type": "code",
        "colab": {
          "base_uri": "https://localhost:8080/",
          "height": 34
        },
        "outputId": "2d0d5f82-f83b-404d-80b2-df56f896d384"
      },
      "cell_type": "code",
      "source": [
        "# Set graph_2 as Default graph\n",
        "with graph_2.as_default():\n",
        "  print(graph_2 is tf.get_default_graph())"
      ],
      "execution_count": 38,
      "outputs": [
        {
          "output_type": "stream",
          "text": [
            "True\n"
          ],
          "name": "stdout"
        }
      ]
    },
    {
      "metadata": {
        "id": "RlzfLIOcJJ0C",
        "colab_type": "code",
        "colab": {
          "base_uri": "https://localhost:8080/",
          "height": 34
        },
        "outputId": "14a87195-ca53-491f-bffc-cbf5392979b0"
      },
      "cell_type": "code",
      "source": [
        "type(graph_1)"
      ],
      "execution_count": 40,
      "outputs": [
        {
          "output_type": "execute_result",
          "data": {
            "text/plain": [
              "tensorflow.python.framework.ops.Graph"
            ]
          },
          "metadata": {
            "tags": []
          },
          "execution_count": 40
        }
      ]
    },
    {
      "metadata": {
        "id": "D32v_YEpJNws",
        "colab_type": "code",
        "colab": {}
      },
      "cell_type": "code",
      "source": [
        ""
      ],
      "execution_count": 0,
      "outputs": []
    },
    {
      "metadata": {
        "id": "rB-dV0a2UxjB",
        "colab_type": "text"
      },
      "cell_type": "markdown",
      "source": [
        "# Variables and Placeholders"
      ]
    },
    {
      "metadata": {
        "id": "GCkjghsZUbvi",
        "colab_type": "text"
      },
      "cell_type": "markdown",
      "source": [
        "There are two main types of tensor objects in a Graph:\n",
        "*   Variables\n",
        "*   Placeholders\n",
        "\n"
      ]
    },
    {
      "metadata": {
        "id": "df-QYFPxU_dg",
        "colab_type": "text"
      },
      "cell_type": "markdown",
      "source": [
        "## Variables\n",
        "* Variables can hold the values of weights and biase throughout the session.\n",
        "* variables need to be initialized\n",
        "\n",
        "## Placeholders\n",
        "* Placeholders are initially empty and are used to feed in the actual training examples.\n",
        "\n",
        "\n",
        "\n",
        "\n"
      ]
    },
    {
      "metadata": {
        "id": "QHJBbLHHVPzj",
        "colab_type": "code",
        "colab": {}
      },
      "cell_type": "code",
      "source": [
        ""
      ],
      "execution_count": 0,
      "outputs": []
    }
  ]
}